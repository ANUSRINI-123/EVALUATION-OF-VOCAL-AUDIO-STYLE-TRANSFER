{
  "nbformat": 4,
  "nbformat_minor": 0,
  "metadata": {
    "colab": {
      "name": "Untitled0.ipynb",
      "provenance": [],
      "collapsed_sections": [],
      "authorship_tag": "ABX9TyMFKGBXTMrk7pBUNf1kedzy",
      "include_colab_link": true
    },
    "kernelspec": {
      "name": "python3",
      "display_name": "Python 3"
    }
  },
  "cells": [
    {
      "cell_type": "markdown",
      "metadata": {
        "id": "view-in-github",
        "colab_type": "text"
      },
      "source": [
        "<a href=\"https://colab.research.google.com/github/ANUSRINI-123/EVALUATION-OF-VOCAL-AUDIO-STYLE-TRANSFER/blob/master/Untitled0.ipynb\" target=\"_parent\"><img src=\"https://colab.research.google.com/assets/colab-badge.svg\" alt=\"Open In Colab\"/></a>"
      ]
    },
    {
      "cell_type": "code",
      "metadata": {
        "id": "acedXWBeVYgl",
        "colab_type": "code",
        "outputId": "327e1986-a039-43c5-bf7b-ee60de11f242",
        "colab": {
          "base_uri": "https://localhost:8080/",
          "height": 330
        }
      },
      "source": [
        "import librosa\n",
        "from librosa.util import find_files\n",
        "from librosa import load\n",
        "import os\n",
        "\n",
        "\n",
        "# Save Spectrogram \n",
        "def CCMixter() : \n",
        "    '''\n",
        "    mix : original wav file\n",
        "    source_1 : inst wav file \n",
        "    source_2 : vocal wac file \n",
        "    '''\n",
        "    Audiolist = os.listdir('./data')\n",
        "\n",
        "    spec_dir = \"./Spectrogram\"\n",
        "    if os.path.exists(spec_dir) is False :\n",
        "        os.mkdir(spec_dir)\n",
        "        \n",
        "    for audio in Audiolist :\n",
        "        try :\n",
        "            audio_path = os.path.join('./data/'+audio)\n",
        "            print(\"Song : %s\" % audio)\n",
        "            if os.path.exists(os.path.join(spec_dir,audio+'.npz')) :\n",
        "                print(\"Already exist!! Skip....\")\n",
        "                continue\n",
        "            aud = find_files(audio_path,ext=\"wav\")\n",
        "    \n",
        "            mix,_ = load(aud[0], sr=None)\n",
        "            inst,_ = load(aud[1], sr = None)\n",
        "            vocal,_ = load(aud[2], sr=None)\n",
        "            print(\"Saving...\")\n",
        "    \n",
        "            SaveSpectrogram(mix, inst, vocal, audio)\n",
        "        except IndexError as e :\n",
        "            print(\"Wrong Directory\")\n",
        "            pass\n",
        "\n",
        "if __name__ == '__main__' :\n",
        "    CCMixter()\n",
        "    print(\"Complete!!!!\")"
      ],
      "execution_count": 0,
      "outputs": [
        {
          "output_type": "error",
          "ename": "FileNotFoundError",
          "evalue": "ignored",
          "traceback": [
            "\u001b[0;31m---------------------------------------------------------------------------\u001b[0m",
            "\u001b[0;31mFileNotFoundError\u001b[0m                         Traceback (most recent call last)",
            "\u001b[0;32m<ipython-input-1-41888b49d6b4>\u001b[0m in \u001b[0;36m<module>\u001b[0;34m()\u001b[0m\n\u001b[1;32m     38\u001b[0m \u001b[0;34m\u001b[0m\u001b[0m\n\u001b[1;32m     39\u001b[0m \u001b[0;32mif\u001b[0m \u001b[0m__name__\u001b[0m \u001b[0;34m==\u001b[0m \u001b[0;34m'__main__'\u001b[0m \u001b[0;34m:\u001b[0m\u001b[0;34m\u001b[0m\u001b[0;34m\u001b[0m\u001b[0m\n\u001b[0;32m---> 40\u001b[0;31m     \u001b[0mCCMixter\u001b[0m\u001b[0;34m(\u001b[0m\u001b[0;34m)\u001b[0m\u001b[0;34m\u001b[0m\u001b[0;34m\u001b[0m\u001b[0m\n\u001b[0m\u001b[1;32m     41\u001b[0m     \u001b[0mprint\u001b[0m\u001b[0;34m(\u001b[0m\u001b[0;34m\"Complete!!!!\"\u001b[0m\u001b[0;34m)\u001b[0m\u001b[0;34m\u001b[0m\u001b[0;34m\u001b[0m\u001b[0m\n",
            "\u001b[0;32m<ipython-input-1-41888b49d6b4>\u001b[0m in \u001b[0;36mCCMixter\u001b[0;34m()\u001b[0m\n\u001b[1;32m     12\u001b[0m     \u001b[0msource_2\u001b[0m \u001b[0;34m:\u001b[0m \u001b[0mvocal\u001b[0m \u001b[0mwac\u001b[0m \u001b[0mfile\u001b[0m\u001b[0;34m\u001b[0m\u001b[0;34m\u001b[0m\u001b[0m\n\u001b[1;32m     13\u001b[0m     '''\n\u001b[0;32m---> 14\u001b[0;31m     \u001b[0mAudiolist\u001b[0m \u001b[0;34m=\u001b[0m \u001b[0mos\u001b[0m\u001b[0;34m.\u001b[0m\u001b[0mlistdir\u001b[0m\u001b[0;34m(\u001b[0m\u001b[0;34m'./data'\u001b[0m\u001b[0;34m)\u001b[0m\u001b[0;34m\u001b[0m\u001b[0;34m\u001b[0m\u001b[0m\n\u001b[0m\u001b[1;32m     15\u001b[0m \u001b[0;34m\u001b[0m\u001b[0m\n\u001b[1;32m     16\u001b[0m     \u001b[0mspec_dir\u001b[0m \u001b[0;34m=\u001b[0m \u001b[0;34m\"./Spectrogram\"\u001b[0m\u001b[0;34m\u001b[0m\u001b[0;34m\u001b[0m\u001b[0m\n",
            "\u001b[0;31mFileNotFoundError\u001b[0m: [Errno 2] No such file or directory: './data'"
          ]
        }
      ]
    },
    {
      "cell_type": "code",
      "metadata": {
        "id": "JHEY4JI2Vwzm",
        "colab_type": "code",
        "colab": {}
      },
      "source": [
        "SR =  16000\n",
        "window_size = 1024\n",
        "hop_length = 768\n",
        "\n",
        "patch_size = 128 # roughly 33 seconds\n",
        "\n",
        "## for training\n",
        "EPOCH = 40\n",
        "BATCH = 16\n",
        "SAMPLING_STRIDE = 10"
      ],
      "execution_count": 0,
      "outputs": []
    },
    {
      "cell_type": "markdown",
      "metadata": {
        "id": "3Ar5Uv2nTFUF",
        "colab_type": "text"
      },
      "source": [
        "# New Section"
      ]
    },
    {
      "cell_type": "code",
      "metadata": {
        "id": "u7rADld7UxDv",
        "colab_type": "code",
        "colab": {}
      },
      "source": [
        ""
      ],
      "execution_count": 0,
      "outputs": []
    }
  ]
}